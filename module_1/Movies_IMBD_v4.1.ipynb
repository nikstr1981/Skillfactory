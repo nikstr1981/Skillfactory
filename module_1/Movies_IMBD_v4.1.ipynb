{
 "cells": [
  {
   "cell_type": "code",
   "execution_count": 1,
   "metadata": {
    "_cell_guid": "b1076dfc-b9ad-4769-8c92-a6c4dae69d19",
    "_uuid": "8f2839f25d086af736a60e9eeb907d3b93b6e0e5",
    "colab": {},
    "colab_type": "code",
    "id": "U2D2gTdJVp90"
   },
   "outputs": [],
   "source": [
    "import numpy as np\n",
    "import pandas as pd\n",
    "import seaborn as sns\n",
    "import matplotlib.pyplot as plt\n",
    "from collections import Counter"
   ]
  },
  {
   "cell_type": "code",
   "execution_count": 2,
   "metadata": {
    "_cell_guid": "79c7e3d0-c299-4dcb-8224-4455121ee9b0",
    "_uuid": "d629ff2d2480ee46fbb7e2d37f6b5fab8052498a",
    "colab": {},
    "colab_type": "code",
    "id": "oyGfxL3eVp9-"
   },
   "outputs": [
    {
     "data": {
      "text/html": [
       "<div>\n",
       "<style scoped>\n",
       "    .dataframe tbody tr th:only-of-type {\n",
       "        vertical-align: middle;\n",
       "    }\n",
       "\n",
       "    .dataframe tbody tr th {\n",
       "        vertical-align: top;\n",
       "    }\n",
       "\n",
       "    .dataframe thead th {\n",
       "        text-align: right;\n",
       "    }\n",
       "</style>\n",
       "<table border=\"1\" class=\"dataframe\">\n",
       "  <thead>\n",
       "    <tr style=\"text-align: right;\">\n",
       "      <th></th>\n",
       "      <th>imdb_id</th>\n",
       "      <th>budget</th>\n",
       "      <th>revenue</th>\n",
       "      <th>original_title</th>\n",
       "      <th>cast</th>\n",
       "      <th>director</th>\n",
       "      <th>tagline</th>\n",
       "      <th>overview</th>\n",
       "      <th>runtime</th>\n",
       "      <th>genres</th>\n",
       "      <th>production_companies</th>\n",
       "      <th>release_date</th>\n",
       "      <th>vote_average</th>\n",
       "      <th>release_year</th>\n",
       "    </tr>\n",
       "  </thead>\n",
       "  <tbody>\n",
       "    <tr>\n",
       "      <th>282</th>\n",
       "      <td>tt1034032</td>\n",
       "      <td>50000000</td>\n",
       "      <td>40828540</td>\n",
       "      <td>Gamer</td>\n",
       "      <td>Gerard Butler|Michael C. Hall|Logan Lerman|Amb...</td>\n",
       "      <td>Mark Neveldine|Brian Taylor</td>\n",
       "      <td>In the near future, you don't live to play... ...</td>\n",
       "      <td>Mind-control technology has taken society by a...</td>\n",
       "      <td>95</td>\n",
       "      <td>Action|Thriller|Science Fiction</td>\n",
       "      <td>Lakeshore Entertainment|Lionsgate</td>\n",
       "      <td>9/3/2009</td>\n",
       "      <td>5.6</td>\n",
       "      <td>2009</td>\n",
       "    </tr>\n",
       "    <tr>\n",
       "      <th>1368</th>\n",
       "      <td>tt0350261</td>\n",
       "      <td>30000000</td>\n",
       "      <td>18618284</td>\n",
       "      <td>An Unfinished Life</td>\n",
       "      <td>Robert Redford|Jennifer Lopez|Morgan Freeman|B...</td>\n",
       "      <td>Lasse HallstrÃ¶m</td>\n",
       "      <td>Every secret takes on a life of its own.</td>\n",
       "      <td>Stoic and heartbroken, Einar Gilkyson quietly ...</td>\n",
       "      <td>108</td>\n",
       "      <td>Drama</td>\n",
       "      <td>Miramax Films|Revolution Studios|Persistent En...</td>\n",
       "      <td>9/9/2005</td>\n",
       "      <td>6.9</td>\n",
       "      <td>2005</td>\n",
       "    </tr>\n",
       "    <tr>\n",
       "      <th>1270</th>\n",
       "      <td>tt1291580</td>\n",
       "      <td>23000000</td>\n",
       "      <td>15600000</td>\n",
       "      <td>Behind the Candelabra</td>\n",
       "      <td>Michael Douglas|Matt Damon|Rob Lowe|Dan Aykroy...</td>\n",
       "      <td>Steven Soderbergh</td>\n",
       "      <td>Too much of a good thing is wonderful</td>\n",
       "      <td>Based on the autobiographical novel, the tempe...</td>\n",
       "      <td>118</td>\n",
       "      <td>Drama|Romance</td>\n",
       "      <td>HBO Films</td>\n",
       "      <td>5/26/2013</td>\n",
       "      <td>6.6</td>\n",
       "      <td>2013</td>\n",
       "    </tr>\n",
       "    <tr>\n",
       "      <th>1780</th>\n",
       "      <td>tt0452623</td>\n",
       "      <td>19000000</td>\n",
       "      <td>34619699</td>\n",
       "      <td>Gone Baby Gone</td>\n",
       "      <td>Casey Affleck|Michelle Monaghan|Morgan Freeman...</td>\n",
       "      <td>Ben Affleck</td>\n",
       "      <td>Everyone wants the truth... until they find it.</td>\n",
       "      <td>When 4 year old Amanda McCready disappears fro...</td>\n",
       "      <td>113</td>\n",
       "      <td>Crime|Drama|Mystery</td>\n",
       "      <td>Miramax Films|The Ladd Company</td>\n",
       "      <td>10/19/2007</td>\n",
       "      <td>7.0</td>\n",
       "      <td>2007</td>\n",
       "    </tr>\n",
       "    <tr>\n",
       "      <th>1545</th>\n",
       "      <td>tt0483726</td>\n",
       "      <td>20000000</td>\n",
       "      <td>41237648</td>\n",
       "      <td>Man of the Year</td>\n",
       "      <td>Robin Williams|Christopher Walken|Laura Linney...</td>\n",
       "      <td>Barry Levinson</td>\n",
       "      <td>Elections are made to be broken.</td>\n",
       "      <td>The irreverent host of a political satire talk...</td>\n",
       "      <td>115</td>\n",
       "      <td>Comedy|Drama|Romance|Thriller</td>\n",
       "      <td>Universal Pictures|Morgan Creek Productions</td>\n",
       "      <td>10/9/2006</td>\n",
       "      <td>5.4</td>\n",
       "      <td>2006</td>\n",
       "    </tr>\n",
       "  </tbody>\n",
       "</table>\n",
       "</div>"
      ],
      "text/plain": [
       "        imdb_id    budget   revenue         original_title  \\\n",
       "282   tt1034032  50000000  40828540                  Gamer   \n",
       "1368  tt0350261  30000000  18618284     An Unfinished Life   \n",
       "1270  tt1291580  23000000  15600000  Behind the Candelabra   \n",
       "1780  tt0452623  19000000  34619699         Gone Baby Gone   \n",
       "1545  tt0483726  20000000  41237648        Man of the Year   \n",
       "\n",
       "                                                   cast  \\\n",
       "282   Gerard Butler|Michael C. Hall|Logan Lerman|Amb...   \n",
       "1368  Robert Redford|Jennifer Lopez|Morgan Freeman|B...   \n",
       "1270  Michael Douglas|Matt Damon|Rob Lowe|Dan Aykroy...   \n",
       "1780  Casey Affleck|Michelle Monaghan|Morgan Freeman...   \n",
       "1545  Robin Williams|Christopher Walken|Laura Linney...   \n",
       "\n",
       "                         director  \\\n",
       "282   Mark Neveldine|Brian Taylor   \n",
       "1368             Lasse HallstrÃ¶m   \n",
       "1270            Steven Soderbergh   \n",
       "1780                  Ben Affleck   \n",
       "1545               Barry Levinson   \n",
       "\n",
       "                                                tagline  \\\n",
       "282   In the near future, you don't live to play... ...   \n",
       "1368           Every secret takes on a life of its own.   \n",
       "1270              Too much of a good thing is wonderful   \n",
       "1780    Everyone wants the truth... until they find it.   \n",
       "1545                   Elections are made to be broken.   \n",
       "\n",
       "                                               overview  runtime  \\\n",
       "282   Mind-control technology has taken society by a...       95   \n",
       "1368  Stoic and heartbroken, Einar Gilkyson quietly ...      108   \n",
       "1270  Based on the autobiographical novel, the tempe...      118   \n",
       "1780  When 4 year old Amanda McCready disappears fro...      113   \n",
       "1545  The irreverent host of a political satire talk...      115   \n",
       "\n",
       "                               genres  \\\n",
       "282   Action|Thriller|Science Fiction   \n",
       "1368                            Drama   \n",
       "1270                    Drama|Romance   \n",
       "1780              Crime|Drama|Mystery   \n",
       "1545    Comedy|Drama|Romance|Thriller   \n",
       "\n",
       "                                   production_companies release_date  \\\n",
       "282                   Lakeshore Entertainment|Lionsgate     9/3/2009   \n",
       "1368  Miramax Films|Revolution Studios|Persistent En...     9/9/2005   \n",
       "1270                                          HBO Films    5/26/2013   \n",
       "1780                     Miramax Films|The Ladd Company   10/19/2007   \n",
       "1545        Universal Pictures|Morgan Creek Productions    10/9/2006   \n",
       "\n",
       "      vote_average  release_year  \n",
       "282            5.6          2009  \n",
       "1368           6.9          2005  \n",
       "1270           6.6          2013  \n",
       "1780           7.0          2007  \n",
       "1545           5.4          2006  "
      ]
     },
     "execution_count": 2,
     "metadata": {},
     "output_type": "execute_result"
    }
   ],
   "source": [
    "data = pd.read_csv('movie_bd_v5.xls')\n",
    "data.sample(5)"
   ]
  },
  {
   "cell_type": "code",
   "execution_count": 3,
   "metadata": {
    "colab": {},
    "colab_type": "code",
    "id": "CoYUnagMVp-C"
   },
   "outputs": [
    {
     "data": {
      "text/html": [
       "<div>\n",
       "<style scoped>\n",
       "    .dataframe tbody tr th:only-of-type {\n",
       "        vertical-align: middle;\n",
       "    }\n",
       "\n",
       "    .dataframe tbody tr th {\n",
       "        vertical-align: top;\n",
       "    }\n",
       "\n",
       "    .dataframe thead th {\n",
       "        text-align: right;\n",
       "    }\n",
       "</style>\n",
       "<table border=\"1\" class=\"dataframe\">\n",
       "  <thead>\n",
       "    <tr style=\"text-align: right;\">\n",
       "      <th></th>\n",
       "      <th>budget</th>\n",
       "      <th>revenue</th>\n",
       "      <th>runtime</th>\n",
       "      <th>vote_average</th>\n",
       "      <th>release_year</th>\n",
       "    </tr>\n",
       "  </thead>\n",
       "  <tbody>\n",
       "    <tr>\n",
       "      <th>count</th>\n",
       "      <td>1.889000e+03</td>\n",
       "      <td>1.889000e+03</td>\n",
       "      <td>1889.000000</td>\n",
       "      <td>1889.000000</td>\n",
       "      <td>1889.000000</td>\n",
       "    </tr>\n",
       "    <tr>\n",
       "      <th>mean</th>\n",
       "      <td>5.431083e+07</td>\n",
       "      <td>1.553653e+08</td>\n",
       "      <td>109.658549</td>\n",
       "      <td>6.140762</td>\n",
       "      <td>2007.860773</td>\n",
       "    </tr>\n",
       "    <tr>\n",
       "      <th>std</th>\n",
       "      <td>4.858721e+07</td>\n",
       "      <td>2.146698e+08</td>\n",
       "      <td>18.017041</td>\n",
       "      <td>0.764763</td>\n",
       "      <td>4.468841</td>\n",
       "    </tr>\n",
       "    <tr>\n",
       "      <th>min</th>\n",
       "      <td>5.000000e+06</td>\n",
       "      <td>2.033165e+06</td>\n",
       "      <td>63.000000</td>\n",
       "      <td>3.300000</td>\n",
       "      <td>2000.000000</td>\n",
       "    </tr>\n",
       "    <tr>\n",
       "      <th>25%</th>\n",
       "      <td>2.000000e+07</td>\n",
       "      <td>3.456058e+07</td>\n",
       "      <td>97.000000</td>\n",
       "      <td>5.600000</td>\n",
       "      <td>2004.000000</td>\n",
       "    </tr>\n",
       "    <tr>\n",
       "      <th>50%</th>\n",
       "      <td>3.800000e+07</td>\n",
       "      <td>8.361541e+07</td>\n",
       "      <td>107.000000</td>\n",
       "      <td>6.100000</td>\n",
       "      <td>2008.000000</td>\n",
       "    </tr>\n",
       "    <tr>\n",
       "      <th>75%</th>\n",
       "      <td>7.200000e+07</td>\n",
       "      <td>1.782626e+08</td>\n",
       "      <td>120.000000</td>\n",
       "      <td>6.600000</td>\n",
       "      <td>2012.000000</td>\n",
       "    </tr>\n",
       "    <tr>\n",
       "      <th>max</th>\n",
       "      <td>3.800000e+08</td>\n",
       "      <td>2.781506e+09</td>\n",
       "      <td>214.000000</td>\n",
       "      <td>8.100000</td>\n",
       "      <td>2015.000000</td>\n",
       "    </tr>\n",
       "  </tbody>\n",
       "</table>\n",
       "</div>"
      ],
      "text/plain": [
       "             budget       revenue      runtime  vote_average  release_year\n",
       "count  1.889000e+03  1.889000e+03  1889.000000   1889.000000   1889.000000\n",
       "mean   5.431083e+07  1.553653e+08   109.658549      6.140762   2007.860773\n",
       "std    4.858721e+07  2.146698e+08    18.017041      0.764763      4.468841\n",
       "min    5.000000e+06  2.033165e+06    63.000000      3.300000   2000.000000\n",
       "25%    2.000000e+07  3.456058e+07    97.000000      5.600000   2004.000000\n",
       "50%    3.800000e+07  8.361541e+07   107.000000      6.100000   2008.000000\n",
       "75%    7.200000e+07  1.782626e+08   120.000000      6.600000   2012.000000\n",
       "max    3.800000e+08  2.781506e+09   214.000000      8.100000   2015.000000"
      ]
     },
     "execution_count": 3,
     "metadata": {},
     "output_type": "execute_result"
    }
   ],
   "source": [
    "data.describe()"
   ]
  },
  {
   "cell_type": "markdown",
   "metadata": {
    "colab_type": "text",
    "id": "DTIt7ezGVp-G"
   },
   "source": [
    "# Предобработка"
   ]
  },
  {
   "cell_type": "code",
   "execution_count": 4,
   "metadata": {
    "colab": {},
    "colab_type": "code",
    "id": "jNb40DwKVp-H"
   },
   "outputs": [],
   "source": [
    "answers = {} # создадим словарь для ответов\n",
    "\n",
    "# тут другие ваши предобработки колонок например:\n",
    "\n",
    "#the time given in the dataset is in string format.\n",
    "#So we need to change this in datetime format\n",
    "# ...\n",
    "\n",
    "# добавление прибыли\n",
    "data['profit'] = data.revenue-data.budget\n",
    "\n",
    "# приведение release_date в формат времени, выделение месяца релиза\n",
    "data.release_date =  pd.to_datetime(data.release_date)\n",
    "data['month'] = data['release_date'].dt.month\n",
    "\n",
    "# подсчет длины описания фильма\n",
    "def count_words(str_df):\n",
    "    return len(str_df.split(' '))\n",
    "\n",
    "data['title_len_words'] = data['overview'].apply(lambda x:count_words(x))\n",
    "\n",
    "\n",
    "# возвращаем строку фильма в формате index title id\n",
    "def str_film(str_film):\n",
    "    return '{0}. {1} ({2})'.format((str_film.index[0]),(str_film.original_title[str_film.index[0]]),\n",
    "                                   (str_film.imdb_id[str_film.index[0]]))\n",
    "\n",
    "# расчет максимальной выручки по директорам\n",
    "def max_revenue():\n",
    "    \n",
    "    director_counter=Counter()\n",
    "    for index, str_df in data.iterrows():\n",
    "        #разделение строки, суммирование выручки по элементам строки\n",
    "        directors = str_df['director'].split('|')        \n",
    "        for director in directors:            \n",
    "            director_counter[director]+=str_df['revenue']\n",
    "    \n",
    "    return director_counter.most_common(1)[0][0]\n",
    "\n",
    "# поиск режисера, который чаще снимает вызываемый жанр\n",
    "def max_genre_director(genre):\n",
    "    \n",
    "    director_counter=Counter()\n",
    "    for index, str_df in data.iterrows():\n",
    "        directors = str_df['director'].split('|')\n",
    "        if genre in str_df.genres:\n",
    "            for director in directors:\n",
    "                \n",
    "                director_counter[director] += 1\n",
    "    \n",
    "    return director_counter.most_common(1)[0][0]\n"
   ]
  },
  {
   "cell_type": "markdown",
   "metadata": {
    "colab_type": "text",
    "id": "YxZaH-nPVp-L"
   },
   "source": [
    "# 1. У какого фильма из списка самый большой бюджет?"
   ]
  },
  {
   "cell_type": "markdown",
   "metadata": {
    "colab_type": "text",
    "id": "Nd-G5gX6Vp-M"
   },
   "source": [
    "Использовать варианты ответов в коде решения запрещено.    \n",
    "Вы думаете и в жизни у вас будут варианты ответов?)"
   ]
  },
  {
   "cell_type": "code",
   "execution_count": 5,
   "metadata": {
    "colab": {},
    "colab_type": "code",
    "id": "uVnXAY5RVp-O"
   },
   "outputs": [],
   "source": [
    "# в словарь вставляем номер вопроса и ваш ответ на него\n",
    "# Пример: \n",
    "answers['1'] = '2. Spider-Man 3 (tt0413300)'\n",
    "# запишите свой вариант ответа\n",
    "answers['1'] = '...'\n",
    "# если ответили верно, можете добавить комментарий со значком \"+\""
   ]
  },
  {
   "cell_type": "code",
   "execution_count": 6,
   "metadata": {
    "colab": {},
    "colab_type": "code",
    "id": "dZwb3m28Vp-S"
   },
   "outputs": [],
   "source": [
    "# тут пишем ваш код для решения данного вопроса:\n",
    "answers['1'] = str_film(data[data.budget == data.budget.max()])"
   ]
  },
  {
   "cell_type": "markdown",
   "metadata": {
    "colab_type": "text",
    "id": "K7L3nbRXVp-X"
   },
   "source": [
    "ВАРИАНТ 2"
   ]
  },
  {
   "cell_type": "code",
   "execution_count": 7,
   "metadata": {
    "colab": {},
    "colab_type": "code",
    "id": "OGaoQI7rVp-X"
   },
   "outputs": [],
   "source": [
    "# можно добавлять разные варианты решения"
   ]
  },
  {
   "cell_type": "markdown",
   "metadata": {
    "colab_type": "text",
    "id": "FNRbbI3vVp-c"
   },
   "source": [
    "# 2. Какой из фильмов самый длительный (в минутах)?"
   ]
  },
  {
   "cell_type": "code",
   "execution_count": 8,
   "metadata": {
    "colab": {},
    "colab_type": "code",
    "id": "vHAoEXNTVp-d"
   },
   "outputs": [],
   "source": [
    "# думаю логику работы с этим словарем вы уже поняли, \n",
    "# по этому не буду больше его дублировать\n",
    "answers['2'] = '...'"
   ]
  },
  {
   "cell_type": "code",
   "execution_count": 9,
   "metadata": {
    "colab": {},
    "colab_type": "code",
    "id": "ot-VX2XrVp-g"
   },
   "outputs": [],
   "source": [
    "answers['2'] = str_film(data[data.runtime == data.runtime.max()])"
   ]
  },
  {
   "cell_type": "markdown",
   "metadata": {
    "colab_type": "text",
    "id": "bapLlpW8Vp-k"
   },
   "source": [
    "# 3. Какой из фильмов самый короткий (в минутах)?\n",
    "\n",
    "\n",
    "\n"
   ]
  },
  {
   "cell_type": "code",
   "execution_count": 10,
   "metadata": {
    "colab": {},
    "colab_type": "code",
    "id": "YBxaSHuAVp-l"
   },
   "outputs": [],
   "source": [
    "answers['3'] = str_film(data[data.runtime == data.runtime.min()])"
   ]
  },
  {
   "cell_type": "markdown",
   "metadata": {
    "colab_type": "text",
    "id": "TfQbxbfNVp-p"
   },
   "source": [
    "# 4. Какова средняя длительность фильмов?\n"
   ]
  },
  {
   "cell_type": "code",
   "execution_count": 11,
   "metadata": {
    "colab": {},
    "colab_type": "code",
    "id": "5K6dKZYVVp-q"
   },
   "outputs": [],
   "source": [
    "answers['4'] = data.runtime.mean()"
   ]
  },
  {
   "cell_type": "markdown",
   "metadata": {
    "colab_type": "text",
    "id": "r5TvbnT_Vp-u"
   },
   "source": [
    "# 5. Каково медианное значение длительности фильмов? "
   ]
  },
  {
   "cell_type": "code",
   "execution_count": 12,
   "metadata": {
    "colab": {},
    "colab_type": "code",
    "id": "iBROplKnVp-v"
   },
   "outputs": [],
   "source": [
    "answers['5'] = data.runtime.median()"
   ]
  },
  {
   "cell_type": "markdown",
   "metadata": {
    "colab_type": "text",
    "id": "39P-deDSVp-y"
   },
   "source": [
    "###6. Какой самый прибыльный фильм?\n",
    "#### Внимание! Здесь и далее под «прибылью» или «убытками» понимается разность между сборами и бюджетом фильма. (прибыль = сборы - бюджет) в нашем датасете это будет (profit = revenue - budget) "
   ]
  },
  {
   "cell_type": "code",
   "execution_count": 13,
   "metadata": {
    "colab": {},
    "colab_type": "code",
    "id": "UYZh4T9WVp-y"
   },
   "outputs": [],
   "source": [
    "# лучше код получения столбца profit вынести в Предобработку что в начале\n",
    "answers['6'] = str_film(data[data.profit == data.profit.max()])"
   ]
  },
  {
   "cell_type": "markdown",
   "metadata": {
    "colab_type": "text",
    "id": "M99JmIX4Vp-2"
   },
   "source": [
    "# 7. Какой фильм самый убыточный? "
   ]
  },
  {
   "cell_type": "code",
   "execution_count": 14,
   "metadata": {
    "colab": {},
    "colab_type": "code",
    "id": "w-D2m4XPVp-3"
   },
   "outputs": [],
   "source": [
    "answers['7'] = str_film(data[data.profit == data.profit.min()])"
   ]
  },
  {
   "cell_type": "markdown",
   "metadata": {
    "colab_type": "text",
    "id": "wEOM5ERVVp-6"
   },
   "source": [
    "# 8. У скольких фильмов из датасета объем сборов оказался выше бюджета?"
   ]
  },
  {
   "cell_type": "code",
   "execution_count": 15,
   "metadata": {
    "colab": {},
    "colab_type": "code",
    "id": "y00_7HD6Vp-7"
   },
   "outputs": [],
   "source": [
    "answers['8'] = data[data.profit > 0].profit.count()"
   ]
  },
  {
   "cell_type": "markdown",
   "metadata": {
    "colab_type": "text",
    "id": "xhpspA9KVp_A"
   },
   "source": [
    "# 9. Какой фильм оказался самым кассовым в 2008 году?"
   ]
  },
  {
   "cell_type": "code",
   "execution_count": 16,
   "metadata": {
    "colab": {},
    "colab_type": "code",
    "id": "MoUyQr9RVp_B"
   },
   "outputs": [],
   "source": [
    "data1 = data[(data.release_year == 2008)].copy()\n",
    "answers['9'] = str_film(data1[data1.revenue==data1.revenue.max()])"
   ]
  },
  {
   "cell_type": "markdown",
   "metadata": {
    "colab_type": "text",
    "id": "Zi4hDKidVp_F"
   },
   "source": [
    "# 10. Самый убыточный фильм за период с 2012 по 2014 г. (включительно)?\n"
   ]
  },
  {
   "cell_type": "code",
   "execution_count": 17,
   "metadata": {
    "colab": {},
    "colab_type": "code",
    "id": "XqyRmufJVp_F"
   },
   "outputs": [],
   "source": [
    "data1 = data[(data.release_year >= 2012)&(data.release_year <= 2014)].copy()\n",
    "answers['10'] = str_film(data1[data1.profit==data1.profit.min()])"
   ]
  },
  {
   "cell_type": "markdown",
   "metadata": {
    "colab_type": "text",
    "id": "EA7Sa9dkVp_I"
   },
   "source": [
    "# 11. Какого жанра фильмов больше всего?"
   ]
  },
  {
   "cell_type": "code",
   "execution_count": 18,
   "metadata": {
    "colab": {},
    "colab_type": "code",
    "id": "zsJAwJ8QVp_J"
   },
   "outputs": [],
   "source": [
    "# эту задачу тоже можно решать разными подходами, попробуй реализовать разные варианты\n",
    "# если будешь добавлять функцию - выноси ее в предобработку что в начале\n",
    "answers['11'] = Counter(data.genres.str.split('|').sum()).most_common(1)[0][0]"
   ]
  },
  {
   "cell_type": "markdown",
   "metadata": {
    "colab_type": "text",
    "id": "Ax6g2C8SVp_M"
   },
   "source": [
    "ВАРИАНТ 2"
   ]
  },
  {
   "cell_type": "code",
   "execution_count": null,
   "metadata": {
    "colab": {},
    "colab_type": "code",
    "id": "otO3SbrSVp_N"
   },
   "outputs": [],
   "source": []
  },
  {
   "cell_type": "markdown",
   "metadata": {
    "colab_type": "text",
    "id": "T9_bPWpkVp_Q"
   },
   "source": [
    "# 12. Фильмы какого жанра чаще всего становятся прибыльными? "
   ]
  },
  {
   "cell_type": "code",
   "execution_count": 19,
   "metadata": {
    "colab": {},
    "colab_type": "code",
    "id": "Tmt8MaK1Vp_R"
   },
   "outputs": [],
   "source": [
    "answers['12'] = Counter(data[data.profit > 0].genres.str.split('|').sum()).most_common(1)[0][0]"
   ]
  },
  {
   "cell_type": "markdown",
   "metadata": {
    "colab_type": "text",
    "id": "0F23bgsDVp_U"
   },
   "source": [
    "# 13. У какого режиссера самые большие суммарные кассовые сборы?"
   ]
  },
  {
   "cell_type": "code",
   "execution_count": 20,
   "metadata": {
    "colab": {},
    "colab_type": "code",
    "id": "K6Z3J8ygVp_X"
   },
   "outputs": [],
   "source": [
    "answers['13'] = max_revenue()"
   ]
  },
  {
   "cell_type": "markdown",
   "metadata": {
    "colab_type": "text",
    "id": "PsYC9FgRVp_a"
   },
   "source": [
    "# 14. Какой режисер снял больше всего фильмов в стиле Action?"
   ]
  },
  {
   "cell_type": "code",
   "execution_count": 21,
   "metadata": {
    "colab": {},
    "colab_type": "code",
    "id": "wd2M-wHeVp_b"
   },
   "outputs": [],
   "source": [
    "answers['14'] = max_genre_director(genre = 'Action')"
   ]
  },
  {
   "cell_type": "markdown",
   "metadata": {
    "colab_type": "text",
    "id": "PQ0KciD7Vp_f"
   },
   "source": [
    "# 15. Фильмы с каким актером принесли самые высокие кассовые сборы в 2012 году? "
   ]
  },
  {
   "cell_type": "code",
   "execution_count": 22,
   "metadata": {
    "colab": {},
    "colab_type": "code",
    "id": "aga62oeKVp_g"
   },
   "outputs": [],
   "source": [
    "cast_counter=Counter()\n",
    "# перебор строк для 2012 г.\n",
    "for index, str_df in data[data.release_year==2012].iterrows():\n",
    "    casts = str_df['cast'].split('|')    \n",
    "    for cast in casts:        \n",
    "        # разделение строки по актерам, подсчет выручки\n",
    "        cast_counter[cast] += str_df['revenue']\n",
    "\n",
    "answers['15'] = cast_counter.most_common(1)[0][0]"
   ]
  },
  {
   "cell_type": "markdown",
   "metadata": {
    "colab_type": "text",
    "id": "mWHyyL7QVp_j"
   },
   "source": [
    "# 16. Какой актер снялся в большем количестве высокобюджетных фильмов?"
   ]
  },
  {
   "cell_type": "code",
   "execution_count": 23,
   "metadata": {
    "colab": {},
    "colab_type": "code",
    "id": "qQtmHKTFVp_k",
    "scrolled": true
   },
   "outputs": [],
   "source": [
    "cast_counter=Counter()\n",
    "data1 = data.copy()\n",
    "# перебор строк для бюджета больше среднего\n",
    "for index, str_df in data1[data1.budget>data1.budget.mean()].iterrows():\n",
    "    # разделение строки по актерам, подсчет сколько раз встречается\n",
    "    casts = str_df['cast'].split('|')    \n",
    "    for cast in casts:        \n",
    "        cast_counter[cast] += 1\n",
    "\n",
    "answers['16'] = cast_counter.most_common(1)[0][0]"
   ]
  },
  {
   "cell_type": "markdown",
   "metadata": {
    "colab_type": "text",
    "id": "NIh6AaW5Vp_n"
   },
   "source": [
    "# 17. В фильмах какого жанра больше всего снимался Nicolas Cage? "
   ]
  },
  {
   "cell_type": "code",
   "execution_count": 24,
   "metadata": {
    "colab": {},
    "colab_type": "code",
    "id": "H74SJDIBVp_n"
   },
   "outputs": [],
   "source": [
    "data['Cage'] = data[\"cast\"].str.contains(\"Nicolas Cage\")\n",
    "# подсчет вхождения с отбором по актеру\n",
    "answers['17'] = Counter(data[data.Cage].genres.str.split('|').sum()).most_common(1)[0][0]"
   ]
  },
  {
   "cell_type": "markdown",
   "metadata": {
    "colab_type": "text",
    "id": "RqOmPRfWVp_q"
   },
   "source": [
    "# 18. Самый убыточный фильм от Paramount Pictures"
   ]
  },
  {
   "cell_type": "code",
   "execution_count": 25,
   "metadata": {
    "colab": {},
    "colab_type": "code",
    "id": "9E_B0Y96Vp_r"
   },
   "outputs": [],
   "source": [
    "data['Paramount'] = data[\"production_companies\"].str.contains(\"Paramount Pictures\")\n",
    "paramaunt_df = data[(data.Paramount)].copy()\n",
    "answers['18'] = str_film(paramaunt_df[paramaunt_df.profit==paramaunt_df.profit.min()])"
   ]
  },
  {
   "cell_type": "markdown",
   "metadata": {
    "colab_type": "text",
    "id": "vS8Ur6ddVp_u"
   },
   "source": [
    "# 19. Какой год стал самым успешным по суммарным кассовым сборам?"
   ]
  },
  {
   "cell_type": "code",
   "execution_count": 26,
   "metadata": {
    "colab": {},
    "colab_type": "code",
    "id": "Dnbt4GdIVp_v"
   },
   "outputs": [],
   "source": [
    "# группировка по году выпуска и выручке, сортировка по выручке\n",
    "max_runtime = data.groupby(['release_year'])['revenue'].sum().sort_values(ascending=False)\n",
    "answers['19'] = max_runtime.index[0]"
   ]
  },
  {
   "cell_type": "markdown",
   "metadata": {
    "colab_type": "text",
    "id": "JAzJh4QAVp_z"
   },
   "source": [
    "# 20. Какой самый прибыльный год для студии Warner Bros?"
   ]
  },
  {
   "cell_type": "code",
   "execution_count": 27,
   "metadata": {
    "colab": {},
    "colab_type": "code",
    "id": "wgVu02DEVp_0"
   },
   "outputs": [],
   "source": [
    "# проверка вхождения студии в колонку production_companies\n",
    "data['Warner'] = data[\"production_companies\"].str.contains(\"Warner Bros\")\n",
    "\n",
    "# отбор данных по студии, группировка по году, сортировка по прибыли\n",
    "warner_df = data[(data.Warner)].copy()\n",
    "max_profit = warner_df.groupby(['release_year'])['profit'].sum().sort_values(ascending=False)\n",
    "answers['20'] = max_profit.index[0] "
   ]
  },
  {
   "cell_type": "markdown",
   "metadata": {
    "colab_type": "text",
    "id": "8Im1S2HRVp_4"
   },
   "source": [
    "# 21. В каком месяце за все годы суммарно вышло больше всего фильмов?"
   ]
  },
  {
   "cell_type": "code",
   "execution_count": 28,
   "metadata": {
    "colab": {},
    "colab_type": "code",
    "id": "lev6TH7gVp_4"
   },
   "outputs": [],
   "source": [
    "answers['21'] = Counter(data['month']).most_common()[0][0]"
   ]
  },
  {
   "cell_type": "markdown",
   "metadata": {
    "colab_type": "text",
    "id": "uAJsZ_NeVp_7"
   },
   "source": [
    "# 22. Сколько суммарно вышло фильмов летом? (за июнь, июль, август)"
   ]
  },
  {
   "cell_type": "code",
   "execution_count": 29,
   "metadata": {
    "colab": {},
    "colab_type": "code",
    "id": "Aa-hEREoVp_8"
   },
   "outputs": [],
   "source": [
    "answers['22'] = len(data[data.release_date.dt.month.isin([6,7,8])])"
   ]
  },
  {
   "cell_type": "markdown",
   "metadata": {
    "colab_type": "text",
    "id": "G94ppOY1VqAA"
   },
   "source": [
    "# 23. Для какого режиссера зима – самое продуктивное время года? "
   ]
  },
  {
   "cell_type": "code",
   "execution_count": 30,
   "metadata": {
    "colab": {},
    "colab_type": "code",
    "id": "RhNTsamuVqAB"
   },
   "outputs": [],
   "source": [
    "director_counter=Counter()\n",
    "for index, str_df in data[data.release_date.dt.month.isin([1,2,12])].iterrows():\n",
    "    directors = str_df['director'].split('|')\n",
    "    \n",
    "    for director in directors:\n",
    "    \n",
    "        director_counter[director]+=1\n",
    "        \n",
    "answers['23'] = director_counter.most_common(1)[0][0]"
   ]
  },
  {
   "cell_type": "markdown",
   "metadata": {
    "colab_type": "text",
    "id": "RBo0JVjVVqAF"
   },
   "source": [
    "# 24. Какая студия дает самые длинные названия своим фильмам по количеству символов?"
   ]
  },
  {
   "cell_type": "code",
   "execution_count": 31,
   "metadata": {
    "colab": {},
    "colab_type": "code",
    "id": "QRGS8L0iVqAG"
   },
   "outputs": [],
   "source": [
    "# выделение колонки с длиной названия\n",
    "data['title_len'] = data['original_title'].apply(len)\n",
    "prod_len=Counter()\n",
    "prod_counter=Counter()\n",
    "for index, str_df in data.iterrows():\n",
    "    directors = str_df['production_companies'].split('|')\n",
    "    # вычисление счетчиков длины и использования\n",
    "    for director in directors:\n",
    "    \n",
    "        prod_len[director] += str_df.title_len\n",
    "        prod_counter[director] += 1\n",
    "# подсчет среднего\n",
    "items_prod = prod_counter.items()\n",
    "for count in items_prod:\n",
    "    \n",
    "    prod_len[count[0]] = prod_len[count[0]]/count[1]\n",
    "    \n",
    "answers['24'] = prod_len.most_common(1)[0][0]"
   ]
  },
  {
   "cell_type": "markdown",
   "metadata": {
    "colab_type": "text",
    "id": "9G0hbvR7VqAK"
   },
   "source": [
    "# 25. Описание фильмов какой студии в среднем самые длинные по количеству слов?"
   ]
  },
  {
   "cell_type": "code",
   "execution_count": 32,
   "metadata": {
    "colab": {},
    "colab_type": "code",
    "id": "Ge2GsLNxVqAK"
   },
   "outputs": [],
   "source": [
    "prod_len=Counter()\n",
    "prod_counter=Counter()\n",
    "\n",
    "# вычисление счетчиков по количеству слов и студиям\n",
    "for index, str_df in data.iterrows():\n",
    "    directors = str_df['production_companies'].split('|')\n",
    "    \n",
    "    for director in directors:\n",
    "    \n",
    "        prod_len[director] += str_df.title_len_words\n",
    "        prod_counter[director] += 1\n",
    "# вычисление средних значений\n",
    "items_prod = prod_counter.items()\n",
    "for count in items_prod:\n",
    "    \n",
    "    prod_len[count[0]] = prod_len[count[0]]/count[1]\n",
    "    \n",
    "answers['25'] = prod_len.most_common()[0][0]"
   ]
  },
  {
   "cell_type": "markdown",
   "metadata": {
    "colab_type": "text",
    "id": "FJ1AFt90VqAP"
   },
   "source": [
    "# 26. Какие фильмы входят в 1 процент лучших по рейтингу? \n",
    "по vote_average"
   ]
  },
  {
   "cell_type": "code",
   "execution_count": 37,
   "metadata": {
    "colab": {},
    "colab_type": "code",
    "id": "8qmJVq4CVqAQ"
   },
   "outputs": [],
   "source": [
    "# выделение фрейма 1% записей по vote_average\n",
    "vote_df = data.sort_values(by='vote_average',ascending = False).iloc[:len(data)//100]\n",
    "best_films = []\n",
    "\n",
    "for index,row in vote_df.iterrows():\n",
    "    \n",
    "    best_films.append('{0}. {1} ({2})'.format((index),(row.original_title),\n",
    "                                   (row.imdb_id)))\n",
    "answers['26'] = best_films"
   ]
  },
  {
   "cell_type": "markdown",
   "metadata": {
    "colab_type": "text",
    "id": "MdXsUXbCVqAV"
   },
   "source": [
    "# 27. Какие актеры чаще всего снимаются в одном фильме вместе?\n"
   ]
  },
  {
   "cell_type": "markdown",
   "metadata": {
    "colab_type": "text",
    "id": "4ymnxEVoVqAW"
   },
   "source": [
    "ВАРИАНТ 2"
   ]
  },
  {
   "cell_type": "code",
   "execution_count": 63,
   "metadata": {},
   "outputs": [],
   "source": [
    "from itertools import combinations\n",
    "from itertools import chain\n",
    "\n",
    "# заполнение списка cast_togever комбинациями актеров\n",
    "# объединение списков комбинаций для подсчета в Counter\n",
    "cast_togever=data.cast.apply(lambda x: list(combinations(str(x).split('|'), 2))).tolist()\n",
    "raised_handslist = chain(*cast_togever)\n",
    "\n",
    "answers['27'] = Counter(raised_handslist).most_common(2)"
   ]
  },
  {
   "cell_type": "markdown",
   "metadata": {
    "colab_type": "text",
    "id": "U0nONFnGVqAX"
   },
   "source": [
    "# Submission"
   ]
  },
  {
   "cell_type": "code",
   "execution_count": 64,
   "metadata": {
    "colab": {},
    "colab_type": "code",
    "id": "IfcaRO9-VqAX",
    "outputId": "0f132912-32bb-4196-c98c-abfbc4ad5a5f"
   },
   "outputs": [
    {
     "data": {
      "text/plain": [
       "{'1': '723. Pirates of the Caribbean: On Stranger Tides (tt1298650)',\n",
       " '2': '1157. Gods and Generals (tt0279111)',\n",
       " '3': '768. Winnie the Pooh (tt1449283)',\n",
       " '4': 109.6585494970884,\n",
       " '5': 107.0,\n",
       " '6': '239. Avatar (tt0499549)',\n",
       " '7': '1245. The Lone Ranger (tt1210819)',\n",
       " '8': 1478,\n",
       " '9': '599. The Dark Knight (tt0468569)',\n",
       " '10': '1245. The Lone Ranger (tt1210819)',\n",
       " '11': 'Drama',\n",
       " '12': 'Drama',\n",
       " '13': 'Peter Jackson',\n",
       " '14': 'Robert Rodriguez',\n",
       " '15': 'Chris Hemsworth',\n",
       " '16': 'Matt Damon',\n",
       " '17': 'Action',\n",
       " '18': '925. K-19: The Widowmaker (tt0267626)',\n",
       " '19': 2015,\n",
       " '20': 2014,\n",
       " '21': 9,\n",
       " '22': 450,\n",
       " '23': 'Peter Jackson',\n",
       " '24': 'Four By Two Productions',\n",
       " '25': 'Midnight Picture Show',\n",
       " '26': ['599. The Dark Knight (tt0468569)',\n",
       "  '118. Interstellar (tt0816692)',\n",
       "  '125. The Imitation Game (tt2084970)',\n",
       "  '9. Inside Out (tt2096673)',\n",
       "  '34. Room (tt3170832)',\n",
       "  '1183. The Wolf of Wall Street (tt0993846)',\n",
       "  '128. Gone Girl (tt2267998)',\n",
       "  '1191. 12 Years a Slave (tt2024544)',\n",
       "  '119. Guardians of the Galaxy (tt2015381)',\n",
       "  '1081. The Lord of the Rings: The Return of the King (tt0167260)',\n",
       "  '1800. Memento (tt0209144)',\n",
       "  '370. Inception (tt1375666)',\n",
       "  '872. The Pianist (tt0253474)',\n",
       "  '138. The Grand Budapest Hotel (tt2278388)',\n",
       "  '1188. Her (tt1798709)',\n",
       "  '28. Spotlight (tt1895587)',\n",
       "  '124. Big Hero 6 (tt2245084)',\n",
       "  '177. The Fault in Our Stars (tt2582846)'],\n",
       " '27': [(('Daniel Radcliffe', 'Rupert Grint'), 8),\n",
       "  (('Daniel Radcliffe', 'Emma Watson'), 8)]}"
      ]
     },
     "execution_count": 64,
     "metadata": {},
     "output_type": "execute_result"
    }
   ],
   "source": [
    "# в конце можно посмотреть свои ответы к каждому вопросу\n",
    "answers"
   ]
  },
  {
   "cell_type": "code",
   "execution_count": 40,
   "metadata": {
    "colab": {},
    "colab_type": "code",
    "id": "SiRmHPl8VqAd"
   },
   "outputs": [
    {
     "data": {
      "text/plain": [
       "27"
      ]
     },
     "execution_count": 40,
     "metadata": {},
     "output_type": "execute_result"
    }
   ],
   "source": [
    "# и убедиться что ни чего не пропустил)\n",
    "len(answers)\n"
   ]
  },
  {
   "cell_type": "code",
   "execution_count": null,
   "metadata": {},
   "outputs": [],
   "source": []
  }
 ],
 "metadata": {
  "colab": {
   "name": "Copy of [SF-DST] Movies IMBD v4.1 TEMPLATE.ipynb",
   "provenance": []
  },
  "kernelspec": {
   "display_name": "Python 3",
   "language": "python",
   "name": "python3"
  },
  "language_info": {
   "codemirror_mode": {
    "name": "ipython",
    "version": 3
   },
   "file_extension": ".py",
   "mimetype": "text/x-python",
   "name": "python",
   "nbconvert_exporter": "python",
   "pygments_lexer": "ipython3",
   "version": "3.7.6"
  }
 },
 "nbformat": 4,
 "nbformat_minor": 1
}
