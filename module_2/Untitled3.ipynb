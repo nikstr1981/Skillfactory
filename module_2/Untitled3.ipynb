{
 "cells": [
  {
   "cell_type": "code",
   "execution_count": 39,
   "id": "6da5094a",
   "metadata": {},
   "outputs": [
    {
     "name": "stdout",
     "output_type": "stream",
     "text": [
      "200\n",
      "application/json; charset=utf-8\n"
     ]
    }
   ],
   "source": [
    "import requests\n",
    "\n",
    "r = requests.get('https://api.github.com', auth=('user', 'pass'))\n",
    "\n",
    "print (r.status_code)\n",
    "print (r.headers['content-type'])"
   ]
  },
  {
   "cell_type": "code",
   "execution_count": 43,
   "id": "da20931e",
   "metadata": {
    "scrolled": true
   },
   "outputs": [],
   "source": [
    "import requests\n",
    "from bs4 import BeautifulSoup\n",
    "\n",
    "def request_town(town):\n",
    "\n",
    "    rqst = requests.get('https://time-in.ru/coordinates?search='+town)\n",
    "\n",
    "    print (rqst.status_code)\n",
    "    print (rqst.headers['content-type'])\n",
    "    soup = BeautifulSoup (rqst.text, 'html.parser')\n",
    "\n",
    "    for string in soup.strings:\n",
    "        if 'Не найдено'  in string:\n",
    "            return ('None')\n",
    "        elif 'Широта, долгота:' in string:\n",
    "            return (repr(string))"
   ]
  },
  {
   "cell_type": "code",
   "execution_count": 5,
   "id": "0c3057b1",
   "metadata": {},
   "outputs": [
    {
     "data": {
      "text/plain": [
       "200"
      ]
     },
     "execution_count": 5,
     "metadata": {},
     "output_type": "execute_result"
    }
   ],
   "source": [
    "r.status_code"
   ]
  },
  {
   "cell_type": "code",
   "execution_count": 26,
   "id": "aa028aef",
   "metadata": {},
   "outputs": [],
   "source": [
    "#r.headers\n",
    "#r.text\n",
    "\n",
    "soup = BeautifulSoup (r.text, 'html.parser')"
   ]
  },
  {
   "cell_type": "code",
   "execution_count": 29,
   "id": "45eae24b",
   "metadata": {},
   "outputs": [
    {
     "data": {
      "text/plain": [
       "3"
      ]
     },
     "metadata": {},
     "output_type": "display_data"
    },
    {
     "data": {
      "text/plain": [
       "99"
      ]
     },
     "execution_count": 29,
     "metadata": {},
     "output_type": "execute_result"
    }
   ],
   "source": [
    "#soup.find_all('a')\n",
    "display(len(list(soup.children)))\n",
    "# 3\n",
    "len(list(soup.descendants))"
   ]
  },
  {
   "cell_type": "code",
   "execution_count": 18,
   "id": "91343103",
   "metadata": {},
   "outputs": [
    {
     "name": "stdout",
     "output_type": "stream",
     "text": [
      "None\n"
     ]
    }
   ],
   "source": [
    "head_tag = soup.head\n",
    "title_tag = head_tag.contents[0]\n",
    "\n",
    "print(title_tag.string)"
   ]
  },
  {
   "cell_type": "code",
   "execution_count": 23,
   "id": "7e55be8f",
   "metadata": {},
   "outputs": [],
   "source": [
    "#for child in head_tag.descendants:\n",
    " #   print(child)"
   ]
  },
  {
   "cell_type": "code",
   "execution_count": 31,
   "id": "0d954cf6",
   "metadata": {},
   "outputs": [
    {
     "name": "stdout",
     "output_type": "stream",
     "text": [
      "None\n"
     ]
    }
   ],
   "source": [
    "for string in soup.strings:\n",
    "    if 'Не найдено'  in string:\n",
    "        print('None')\n",
    "    elif 'Широта, долгота:' in string:\n",
    "     print(repr(string))"
   ]
  },
  {
   "cell_type": "code",
   "execution_count": 56,
   "id": "75df75de",
   "metadata": {},
   "outputs": [
    {
     "name": "stdout",
     "output_type": "stream",
     "text": [
      "200\n",
      "text/html; charset=utf-8\n"
     ]
    },
    {
     "data": {
      "text/plain": [
       "'None'"
      ]
     },
     "metadata": {},
     "output_type": "display_data"
    }
   ],
   "source": [
    "display(request_town('Lyon'))"
   ]
  },
  {
   "cell_type": "code",
   "execution_count": null,
   "id": "cd45fa96",
   "metadata": {},
   "outputs": [],
   "source": []
  }
 ],
 "metadata": {
  "kernelspec": {
   "display_name": "Python 3",
   "language": "python",
   "name": "python3"
  },
  "language_info": {
   "codemirror_mode": {
    "name": "ipython",
    "version": 3
   },
   "file_extension": ".py",
   "mimetype": "text/x-python",
   "name": "python",
   "nbconvert_exporter": "python",
   "pygments_lexer": "ipython3",
   "version": "3.8.8"
  }
 },
 "nbformat": 4,
 "nbformat_minor": 5
}
