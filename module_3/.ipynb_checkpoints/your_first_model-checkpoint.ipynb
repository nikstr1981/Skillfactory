{
 "cells": [
  {
   "cell_type": "markdown",
   "metadata": {},
   "source": [
    "# Загрузка Pandas и очистка данных"
   ]
  },
  {
   "cell_type": "code",
   "execution_count": 1,
   "metadata": {},
   "outputs": [],
   "source": [
    "import re\n",
    "import numpy as np\n",
    "import pandas as pd\n",
    "import seaborn as sns\n",
    "import matplotlib.pyplot as plt\n",
    "from collections import Counter"
   ]
  },
  {
   "cell_type": "code",
   "execution_count": 2,
   "metadata": {},
   "outputs": [],
   "source": [
    "data = pd.read_csv('main_task_new.csv')"
   ]
  },
  {
   "cell_type": "code",
   "execution_count": 3,
   "metadata": {},
   "outputs": [],
   "source": [
    "# Ваш код по очистке данных и генерации новых признаков\n",
    "# При необходимости добавьте ячейки"
   ]
  },
  {
   "cell_type": "code",
   "execution_count": 4,
   "metadata": {},
   "outputs": [
    {
     "data": {
      "text/plain": [
       "6471"
      ]
     },
     "execution_count": 4,
     "metadata": {},
     "output_type": "execute_result"
    }
   ],
   "source": [
    "# Заполнение пропусков средними значениями\n",
    "data['Number of Reviews'].fillna(data['Number of Reviews'].mean(), inplace =True)\n",
    "data['Ranking'].fillna(data['Ranking'].mean(), inplace =True)\n",
    "data['Rating'].fillna(data['Rating'].mean(), inplace =True)\n",
    "data['Cuisine Style'].fillna(\"International\", inplace=True)\n",
    "\n",
    "# подготовка колонки к обработке\n",
    "def len_cuisine(style1):\n",
    "    style = str(style1)\n",
    "    style = style.replace(\"[\",'').replace(\"]\",'').replace(\"'\",\"\").replace(\", \",\",\")\n",
    "    return style.split(',')\n",
    "\n",
    "\n",
    "data['Cuisine Style'] = data['Cuisine Style'].apply(lambda x:len_cuisine(x))\n",
    "\n",
    "# подсчет количества свойств строки\n",
    "def len_cuisine1(style):\n",
    "\n",
    "    if style == None:\n",
    "        return 1\n",
    "    else: \n",
    "        l_style = style.split(', ')\n",
    "        return len(l_style)\n",
    "\n",
    "data['len Cuisine Style'] = data['Cuisine Style'].apply(lambda x:len(x))\n",
    "\n",
    "# расчет разности отзывов в днях\n",
    "def review_to_variance(review):\n",
    "    pattern = re.compile('\\'\\d+\\/\\d+\\/\\d+\\'?')\n",
    "    dat = pattern.findall(review)\n",
    "    if len(dat) >= 2:\n",
    "        datetime_list = []\n",
    "        for date in dat:\n",
    "            date = date[1:-1]\n",
    "            dt = pd.to_datetime(date)#datetime.datetime.strptime(date, '%m/%d/%Y')\n",
    "            datetime_list.append(dt)\n",
    "        if datetime_list[0] > datetime_list[1]:\n",
    "            variance = (datetime_list[0] - datetime_list[1]).days\n",
    "        else:\n",
    "            variance = (datetime_list[1] - datetime_list[0]).days\n",
    "            \n",
    "        #проверка на ошибки в отзывах, больше года ошибка    \n",
    "        if variance > 365:\n",
    "            return 365\n",
    "        else:\n",
    "            return variance\n",
    "        \n",
    "    else:\n",
    "        return 0\n",
    "    \n",
    "data['review_variance'] = data['Reviews'].apply(lambda x: review_to_variance(x))\n",
    "\n",
    "# выделение последнего отзыва\n",
    "def review_to_date(review):\n",
    "    pattern = re.compile('\\'\\d+\\/\\d+\\/\\d+\\'?')\n",
    "    dat = pattern.findall(review)\n",
    "    if len(dat) == 0:\n",
    "        return pd.to_datetime(np.nan)  \n",
    "    else:\n",
    "        datetime_list = []\n",
    "        for date in dat:\n",
    "            dt = pd.to_datetime(date)#datetime.datetime.strptime(date, '%m/%d/%Y')\n",
    "            datetime_list.append(dt)\n",
    "        if len(datetime_list)>1:\n",
    "            if datetime_list[0] > datetime_list[1]:\n",
    "                return datetime_list[0]\n",
    "            else:\n",
    "                return datetime_list[1]\n",
    "        else: return datetime_list[0]\n",
    "                \n",
    "    \n",
    "data['review_last'] = data['Reviews'].apply(lambda x: review_to_date(x))\n",
    "\n",
    "# проверка nan даты последнего отзыва\n",
    "data['review_last'].isna().sum()"
   ]
  },
  {
   "cell_type": "code",
   "execution_count": 5,
   "metadata": {},
   "outputs": [],
   "source": [
    "# заполнение nan даты последнего отзыва ближайшей датой\n",
    "max_data = data['review_last'].max()\n",
    "data['review_last'].fillna(max_data, inplace=True)\n",
    "\n",
    "# новая колонка день последнего отзыва\n",
    "data['review_day'] = data['review_last'].dt.weekday\n",
    "data['review_month'] = data['review_last'].dt.month\n",
    "data['review_year'] = data['review_last'].dt.year\n",
    "#data['review_day'].fillna(data['review_day'].mean(), inplace =True)\n",
    "\n",
    "# новая колонка объединенный рэйтинг\n",
    "data['Rating_union'] =data['Ranking']**0.5\n",
    "\n",
    "def count_range1(colum):\n",
    "    colum = str(colum)\n",
    "    if (np.nan == colum)or('nan'==colum):\n",
    "        return 0\n",
    "    elif '$$$$' in colum:   #colum.isnan():\n",
    "        return 3\n",
    "    elif '$$ - $$$' in colum:   #colum.isnan():\n",
    "        return 2\n",
    "    else:\n",
    "        return 1\n",
    "\n",
    "# новая колока классификация цены    \n",
    "data['Price Range count'] = data['Price Range'].apply(lambda x: count_range1(x))\n"
   ]
  },
  {
   "cell_type": "code",
   "execution_count": 6,
   "metadata": {},
   "outputs": [],
   "source": [
    "# добавление dummy variables plus_world и mins_world соответственно комплимент и ругательства\n",
    "#вражения из словаря в интернете\n",
    "plus_world = \"good,better,yummy,mouth-watering,scrumptious,very rich,decadent,amazing,fresh,delicious,sweet\"\n",
    "plus_world = plus_world.split(',')\n",
    "\n",
    "minus_world = \"bad,worst,don't, not \"\n",
    "minus_world = minus_world.split(',')\n",
    "\n",
    "def count_plus_word(colum):\n",
    "    colum= str(colum).lower()\n",
    "    sum = 0\n",
    "    for word in plus_world:\n",
    "        if word in colum:\n",
    "            sum += 1\n",
    "    return sum\n",
    "\n",
    "data['plus_word'] = data['Reviews'].apply(lambda x: count_plus_word(x))\n",
    "\n",
    "def count_minus_word(colum):\n",
    "    colum= str(colum).lower()\n",
    "    sum = 0\n",
    "    for word in minus_world:\n",
    "        if word in colum:\n",
    "            sum += 1\n",
    "    return sum    \n",
    "    \n",
    "data['minus_world'] = data['Reviews'].apply(lambda x: count_minus_word(x))\n",
    "\n",
    "data = pd.get_dummies(data, columns=[ 'City',], dummy_na=True)\n",
    "\n",
    "# Добавляем также dummies признак для типов кухни\n",
    "df1 = data[['Cuisine Style']].copy()\n",
    "df1 = pd.get_dummies(df1['Cuisine Style'].explode(), prefix = 'cuis').sum(level=0)\n",
    "data = pd.concat([data,df1],axis=1)\n",
    "#data.info(5)"
   ]
  },
  {
   "cell_type": "markdown",
   "metadata": {},
   "source": [
    "# Разбиваем датафрейм на части, необходимые для обучения и тестирования модели"
   ]
  },
  {
   "cell_type": "code",
   "execution_count": 7,
   "metadata": {},
   "outputs": [],
   "source": [
    "df = data.drop(['Restaurant_id','review_last',], axis = 1)\n",
    "object_columns = [s for s in df.columns if df[s].dtypes == 'object']\n",
    "df.drop(object_columns, axis = 1, inplace=True)\n",
    "\n",
    "# Х - данные с информацией о ресторанах, у - целевая переменная (рейтинги ресторанов)\n",
    "#X = df.drop(['Restaurant_id', 'Rating'], axis = 1)\n",
    "X = df.drop(['Rating'], axis = 1)\n",
    "y = df['Rating']\n",
    "#df.info()\n",
    "#object_columns\n",
    "#df.columns"
   ]
  },
  {
   "cell_type": "code",
   "execution_count": 8,
   "metadata": {},
   "outputs": [],
   "source": [
    "# Загружаем специальный инструмент для разбивки:\n",
    "from sklearn.model_selection import train_test_split"
   ]
  },
  {
   "cell_type": "code",
   "execution_count": 9,
   "metadata": {},
   "outputs": [],
   "source": [
    "# Наборы данных с меткой \"train\" будут использоваться для обучения модели, \"test\" - для тестирования.\n",
    "# Для тестирования мы будем использовать 25% от исходного датасета.\n",
    "X_train, X_test, y_train, y_test = train_test_split(X, y, test_size=0.25)"
   ]
  },
  {
   "cell_type": "markdown",
   "metadata": {},
   "source": [
    "# Создаём, обучаем и тестируем модель"
   ]
  },
  {
   "cell_type": "code",
   "execution_count": 10,
   "metadata": {},
   "outputs": [],
   "source": [
    "# Импортируем необходимые библиотеки:\n",
    "from sklearn.ensemble import RandomForestRegressor # инструмент для создания и обучения модели\n",
    "from sklearn import metrics # инструменты для оценки точности модели"
   ]
  },
  {
   "cell_type": "code",
   "execution_count": 11,
   "metadata": {},
   "outputs": [],
   "source": [
    "# Создаём модель\n",
    "regr = RandomForestRegressor(n_estimators=100)\n",
    "\n",
    "# Обучаем модель на тестовом наборе данных\n",
    "regr.fit(X_train, y_train)\n",
    "\n",
    "# Используем обученную модель для предсказания рейтинга ресторанов в тестовой выборке.\n",
    "# Предсказанные значения записываем в переменную y_pred\n",
    "y_pred = regr.predict(X_test)"
   ]
  },
  {
   "cell_type": "code",
   "execution_count": 12,
   "metadata": {},
   "outputs": [
    {
     "name": "stdout",
     "output_type": "stream",
     "text": [
      "MAE: 0.21665749999999998\n"
     ]
    }
   ],
   "source": [
    "# Сравниваем предсказанные значения (y_pred) с реальными (y_test), и смотрим насколько они в среднем отличаются\n",
    "# Метрика называется Mean Absolute Error (MAE) и показывает среднее отклонение предсказанных значений от фактических.\n",
    "print('MAE:', metrics.mean_absolute_error(y_test, y_pred))"
   ]
  },
  {
   "cell_type": "code",
   "execution_count": null,
   "metadata": {},
   "outputs": [],
   "source": []
  }
 ],
 "metadata": {
  "kernelspec": {
   "display_name": "Python 3",
   "language": "python",
   "name": "python3"
  },
  "language_info": {
   "codemirror_mode": {
    "name": "ipython",
    "version": 3
   },
   "file_extension": ".py",
   "mimetype": "text/x-python",
   "name": "python",
   "nbconvert_exporter": "python",
   "pygments_lexer": "ipython3",
   "version": "3.8.8"
  }
 },
 "nbformat": 4,
 "nbformat_minor": 2
}
