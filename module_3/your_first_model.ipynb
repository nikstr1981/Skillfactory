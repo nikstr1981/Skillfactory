{
 "cells": [
  {
   "cell_type": "markdown",
   "metadata": {},
   "source": [
    "# Загрузка Pandas и очистка данных"
   ]
  },
  {
   "cell_type": "code",
   "execution_count": 45,
   "metadata": {},
   "outputs": [],
   "source": [
    "import re\n",
    "import numpy as np\n",
    "import pandas as pd\n",
    "import seaborn as sns\n",
    "import matplotlib.pyplot as plt\n",
    "from collections import Counter\n",
    "import missingno as msno"
   ]
  },
  {
   "cell_type": "code",
   "execution_count": 36,
   "metadata": {},
   "outputs": [],
   "source": [
    "data = pd.read_csv('main_task_new.csv')"
   ]
  },
  {
   "cell_type": "code",
   "execution_count": 37,
   "metadata": {},
   "outputs": [],
   "source": [
    "# Ваш код по очистке данных и генерации новых признаков\n",
    "# При необходимости добавьте ячейки\n",
    "\n",
    "DEBUG = False\n",
    "''' Вывод табицы с отбором по колонке и ее пустым значениям'''\n",
    "def show_nan_value(column, df_work):    \n",
    "    display(df_work[students[column].isnull().values][:])\n",
    "\n",
    "''' Статистика колонки: квартили, границы выбросов'''    \n",
    "def stat_column(column, df_work):\n",
    "    perc25 = df_work[column].quantile(0.25)\n",
    "    perc75 = df_work[column].quantile(0.75)\n",
    "    IQR = perc75 - perc25\n",
    "    print('25-й перцентиль: {},'.format(perc25), '75-й перцентиль: {},'.format(perc75), \"IQR: {}, \".format(IQR), \"Границы выбросов: [{f}, {l}].\".format(f=perc25 - 1.5*IQR, l=perc75 + 1.5*IQR))\n",
    "    df_work[column].loc[df_work[column].between(perc25 - 1.5*IQR, perc75 + 1.5*IQR)].hist(bins = 10, range = (0, 10), label = 'IQR')\n",
    "    \n",
    "''' Анализ колонки '''\n",
    "def analis_column(column, df_work):\n",
    "    df_work[column] = df_work[column].apply(lambda x: None if x == 'nan'  else x)\n",
    "    if DEBUG:\n",
    "        #students.drop(students[(students.score == 0) | (students['score'].isnull())].index, inplace=True)        \n",
    "        display(df_work[column].value_counts())\n",
    "        \n",
    "    # замена на медиану пустых значений\n",
    "    is_null = df_work[column].isnull().sum()\n",
    "    if is_null>0:\n",
    "        print(f'Пустых значений в {column}: {is_null}, Требуется замена')        \n",
    "        #: {students[column].median()}'\n",
    "        #students.score.hist()\n",
    "    display(df_work[column].unique())    \n",
    "    display(df_work.loc[:, [column]].info())\n",
    "    display(df_work[column].describe())\n",
    "    df_work[column].hist()\n",
    "\n",
    "'''Заполнение пустых значении равномерным распределением'''\n",
    "def division_column(column, df_work):\n",
    "\n",
    "    df = df_work[column].value_counts().to_frame()\n",
    "    # шаг для заполнения  равен пустые значения/количество значений в колонке\n",
    "    is_null = df_work[column].isnull().sum()    \n",
    "    step = round(is_null/len(df),0)\n",
    "    if DEBUG: print(f'нулевых:{is_null} шаг:{step}')\n",
    "    last_idx = None\n",
    "    for idx, str_df in df.iterrows():\n",
    "        counter = 0\n",
    "        for index, str_stud in df_work[df_work[column].isnull()].iterrows():\n",
    "            if counter < step:\n",
    "                counter += 1\n",
    "                df_work.loc[index, column] = idx            \n",
    "                last_idx = idx\n",
    "            else: break\n",
    "    \n",
    "    is_null = df_work[column].isnull().sum()\n",
    "    if is_null > 0:\n",
    "        for index, str_stud in df_work[df_work[column].isnull()].iterrows():\n",
    "            df_work.loc[index, column] = last_idx            \n",
    "    \n",
    "    if DEBUG: print(f'нулевых:{is_null}')\n"
   ]
  },
  {
   "cell_type": "code",
   "execution_count": 38,
   "metadata": {},
   "outputs": [
    {
     "name": "stdout",
     "output_type": "stream",
     "text": [
      "Пустых значений в Number of Reviews: 2543, Требуется замена\n"
     ]
    },
    {
     "data": {
      "text/plain": [
       "array([ 194.,   10.,  688., ..., 2297.,  989., 1162.])"
      ]
     },
     "metadata": {},
     "output_type": "display_data"
    },
    {
     "name": "stdout",
     "output_type": "stream",
     "text": [
      "<class 'pandas.core.frame.DataFrame'>\n",
      "RangeIndex: 40000 entries, 0 to 39999\n",
      "Data columns (total 1 columns):\n",
      " #   Column             Non-Null Count  Dtype  \n",
      "---  ------             --------------  -----  \n",
      " 0   Number of Reviews  37457 non-null  float64\n",
      "dtypes: float64(1)\n",
      "memory usage: 312.6 KB\n"
     ]
    },
    {
     "data": {
      "text/plain": [
       "None"
      ]
     },
     "metadata": {},
     "output_type": "display_data"
    },
    {
     "data": {
      "text/plain": [
       "count    37457.000000\n",
       "mean       124.825480\n",
       "std        295.666352\n",
       "min          2.000000\n",
       "25%          9.000000\n",
       "50%         33.000000\n",
       "75%        115.000000\n",
       "max       9660.000000\n",
       "Name: Number of Reviews, dtype: float64"
      ]
     },
     "metadata": {},
     "output_type": "display_data"
    },
    {
     "data": {
      "image/png": "[encoded data removed]",
      "text/plain": [
       "<Figure size 432x288 with 1 Axes>"
      ]
     },
     "metadata": {
      "needs_background": "light"
     },
     "output_type": "display_data"
    }
   ],
   "source": [
    "analis_column('Number of Reviews', data)"
   ]
  },
  {
   "cell_type": "code",
   "execution_count": 39,
   "metadata": {
    "scrolled": true
   },
   "outputs": [
    {
     "data": {
      "text/plain": [
       "<AxesSubplot:xlabel='City'>"
      ]
     },
     "execution_count": 39,
     "metadata": {},
     "output_type": "execute_result"
    },
    {
     "data": {
      "image/png": "[encoded data removed]",
      "text/plain": [
       "<Figure size 1440x216 with 1 Axes>"
      ]
     },
     "metadata": {
      "needs_background": "light"
     },
     "output_type": "display_data"
    }
   ],
   "source": [
    "data.groupby(['City'])['Number of Reviews'].agg(['mean','median']).plot(kind='bar',figsize=[20,3],grid=True)"
   ]
  },
  {
   "cell_type": "code",
   "execution_count": 46,
   "metadata": {},
   "outputs": [
    {
     "data": {
      "image/png": "[encoded data removed]",
      "text/plain": [
       "<Figure size 1800x720 with 2 Axes>"
      ]
     },
     "metadata": {
      "needs_background": "light"
     },
     "output_type": "display_data"
    }
   ],
   "source": [
    "#анализ пустых значений\n",
    "msno.matrix(data)\n",
    "plt.show()"
   ]
  },
  {
   "cell_type": "code",
   "execution_count": 22,
   "metadata": {},
   "outputs": [
    {
     "data": {
      "text/plain": [
       "6471"
      ]
     },
     "execution_count": 22,
     "metadata": {},
     "output_type": "execute_result"
    }
   ],
   "source": [
    "# Заполнение пропусков средними значениями\n",
    "#data['Number of Reviews'].fillna(data['Number of Reviews'].mean(), inplace =True)\n",
    "gb_city = round(data.groupby(['City'])['Number of Reviews'].median()).to_dict() # создаем словарь\n",
    "data['Number of Reviews'].fillna(data['City'].map(gb_city),inplace=True) # заменяем пропуски, применяя словарь\n",
    "\n",
    "data['Ranking'].fillna(data['Ranking'].mean(), inplace =True)\n",
    "data['Rating'].fillna(data['Rating'].mean(), inplace =True)\n",
    "data['Cuisine Style'].fillna(\"International\", inplace=True)\n",
    "\n",
    "'''# Заполнение пропусков равномерным распределением\n",
    "division_column('Number of Reviews', data)\n",
    "division_column('Ranking', data)\n",
    "division_column('Rating', data)'''\n",
    "# медиан дали худший результат\n",
    "\n",
    "# подготовка колонки к обработке\n",
    "def len_cuisine(style1):\n",
    "    style = str(style1)\n",
    "    style = style.replace(\"[\",'').replace(\"]\",'').replace(\"'\",\"\").replace(\", \",\",\")\n",
    "    return style.split(',')\n",
    "\n",
    "\n",
    "data['Cuisine Style'] = data['Cuisine Style'].apply(lambda x:len_cuisine(x))\n",
    "\n",
    "# подсчет количества свойств строки\n",
    "def len_cuisine1(style):\n",
    "\n",
    "    if style == None:\n",
    "        return 1\n",
    "    else: \n",
    "        l_style = style.split(', ')\n",
    "        return len(l_style)\n",
    "\n",
    "data['len Cuisine Style'] = data['Cuisine Style'].apply(lambda x:len(x))\n",
    "\n",
    "# расчет разности отзывов в днях\n",
    "def review_to_variance(review):\n",
    "    pattern = re.compile('\\'\\d+\\/\\d+\\/\\d+\\'?')\n",
    "    dat = pattern.findall(review)\n",
    "    if len(dat) >= 2:\n",
    "        datetime_list = []\n",
    "        for date in dat:\n",
    "            date = date[1:-1]\n",
    "            dt = pd.to_datetime(date)#datetime.datetime.strptime(date, '%m/%d/%Y')\n",
    "            datetime_list.append(dt)\n",
    "        if datetime_list[0] > datetime_list[1]:\n",
    "            variance = (datetime_list[0] - datetime_list[1]).days\n",
    "        else:\n",
    "            variance = (datetime_list[1] - datetime_list[0]).days\n",
    "            \n",
    "        #проверка на ошибки в отзывах, больше года ошибка    \n",
    "        if variance > 365:\n",
    "            return 365\n",
    "        else:\n",
    "            return variance\n",
    "        \n",
    "    else:\n",
    "        return 0\n",
    "    \n",
    "data['review_variance'] = data['Reviews'].apply(lambda x: review_to_variance(x))\n",
    "\n",
    "# выделение последнего отзыва\n",
    "def review_to_date(review):\n",
    "    pattern = re.compile('\\'\\d+\\/\\d+\\/\\d+\\'?')\n",
    "    dat = pattern.findall(review)\n",
    "    if len(dat) == 0:\n",
    "        return pd.to_datetime(np.nan)  \n",
    "    else:\n",
    "        datetime_list = []\n",
    "        for date in dat:\n",
    "            dt = pd.to_datetime(date)#datetime.datetime.strptime(date, '%m/%d/%Y')\n",
    "            datetime_list.append(dt)\n",
    "        if len(datetime_list)>1:\n",
    "            if datetime_list[0] > datetime_list[1]:\n",
    "                return datetime_list[0]\n",
    "            else:\n",
    "                return datetime_list[1]\n",
    "        else: return datetime_list[0]\n",
    "                \n",
    "    \n",
    "data['review_last'] = data['Reviews'].apply(lambda x: review_to_date(x))\n",
    "\n",
    "# проверка nan даты последнего отзыва\n",
    "data['review_last'].isna().sum()\n"
   ]
  },
  {
   "cell_type": "code",
   "execution_count": 23,
   "metadata": {},
   "outputs": [],
   "source": [
    "# заполнение nan даты последнего отзыва ближайшей датой\n",
    "max_data = data['review_last'].max()\n",
    "data['review_last'].fillna(max_data, inplace=True)\n",
    "\n",
    "# новая колонка день последнего отзыва\n",
    "data['review_day'] = data['review_last'].dt.weekday\n",
    "data['review_month'] = data['review_last'].dt.month\n",
    "data['review_year'] = data['review_last'].dt.year\n",
    "#data['review_day'].fillna(data['review_day'].mean(), inplace =True)\n",
    "\n",
    "# новая колонка объединенный рэйтинг\n",
    "data['Rating_union'] =data['Ranking']**0.5\n",
    "\n",
    "def count_range1(colum):\n",
    "    colum = str(colum)\n",
    "    if (np.nan == colum)or('nan'==colum):\n",
    "        return 0\n",
    "    elif '$$$$' in colum:   #colum.isnan():\n",
    "        return 3\n",
    "    elif '$$ - $$$' in colum:   #colum.isnan():\n",
    "        return 2\n",
    "    else:\n",
    "        return 1\n",
    "\n",
    "# новая колока классификация цены    \n",
    "data['Price Range count'] = data['Price Range'].apply(lambda x: count_range1(x))\n"
   ]
  },
  {
   "cell_type": "code",
   "execution_count": 24,
   "metadata": {},
   "outputs": [],
   "source": [
    "# добавление dummy variables plus_world и mins_world соответственно комплимент и ругательства\n",
    "#вражения из словаря в интернете\n",
    "plus_world = \"good,better,yummy,mouth-watering,scrumptious,very rich,decadent,amazing,fresh,delicious,sweet\"\n",
    "plus_world = plus_world.split(',')\n",
    "\n",
    "minus_world = \"bad,worst,don't, not \"\n",
    "minus_world = minus_world.split(',')\n",
    "\n",
    "def count_plus_word(colum):\n",
    "    colum= str(colum).lower()\n",
    "    sum = 0\n",
    "    for word in plus_world:\n",
    "        if word in colum:\n",
    "            sum += 1\n",
    "    return sum\n",
    "\n",
    "data['plus_word'] = data['Reviews'].apply(lambda x: count_plus_word(x))\n",
    "\n",
    "def count_minus_word(colum):\n",
    "    colum= str(colum).lower()\n",
    "    sum = 0\n",
    "    for word in minus_world:\n",
    "        if word in colum:\n",
    "            sum += 1\n",
    "    return sum    \n",
    "    \n",
    "data['minus_world'] = data['Reviews'].apply(lambda x: count_minus_word(x))"
   ]
  },
  {
   "cell_type": "code",
   "execution_count": 25,
   "metadata": {},
   "outputs": [
    {
     "data": {
      "text/html": [
       "<div>\n",
       "<style scoped>\n",
       "    .dataframe tbody tr th:only-of-type {\n",
       "        vertical-align: middle;\n",
       "    }\n",
       "\n",
       "    .dataframe tbody tr th {\n",
       "        vertical-align: top;\n",
       "    }\n",
       "\n",
       "    .dataframe thead th {\n",
       "        text-align: right;\n",
       "    }\n",
       "</style>\n",
       "<table border=\"1\" class=\"dataframe\">\n",
       "  <thead>\n",
       "    <tr style=\"text-align: right;\">\n",
       "      <th></th>\n",
       "      <th>Restaurant_id</th>\n",
       "      <th>City</th>\n",
       "      <th>Cuisine Style</th>\n",
       "      <th>Ranking</th>\n",
       "      <th>Rating</th>\n",
       "      <th>Price Range</th>\n",
       "      <th>Number of Reviews</th>\n",
       "      <th>Reviews</th>\n",
       "      <th>URL_TA</th>\n",
       "      <th>ID_TA</th>\n",
       "      <th>len Cuisine Style</th>\n",
       "      <th>review_variance</th>\n",
       "      <th>review_last</th>\n",
       "      <th>review_day</th>\n",
       "      <th>review_month</th>\n",
       "      <th>review_year</th>\n",
       "      <th>Rating_union</th>\n",
       "      <th>Price Range count</th>\n",
       "      <th>plus_word</th>\n",
       "      <th>minus_world</th>\n",
       "    </tr>\n",
       "  </thead>\n",
       "  <tbody>\n",
       "    <tr>\n",
       "      <th>0</th>\n",
       "      <td>id_5569</td>\n",
       "      <td>Paris</td>\n",
       "      <td>[European, French, International]</td>\n",
       "      <td>5570.0</td>\n",
       "      <td>3.5</td>\n",
       "      <td>$$ - $$$</td>\n",
       "      <td>194.0</td>\n",
       "      <td>[['Good food at your doorstep', 'A good hotel ...</td>\n",
       "      <td>/Restaurant_Review-g187147-d1912643-Reviews-R_...</td>\n",
       "      <td>d1912643</td>\n",
       "      <td>3</td>\n",
       "      <td>41</td>\n",
       "      <td>2017-12-31</td>\n",
       "      <td>6</td>\n",
       "      <td>12</td>\n",
       "      <td>2017</td>\n",
       "      <td>74.632433</td>\n",
       "      <td>2</td>\n",
       "      <td>1</td>\n",
       "      <td>0</td>\n",
       "    </tr>\n",
       "  </tbody>\n",
       "</table>\n",
       "</div>"
      ],
      "text/plain": [
       "  Restaurant_id   City                      Cuisine Style  Ranking  Rating  \\\n",
       "0       id_5569  Paris  [European, French, International]   5570.0     3.5   \n",
       "\n",
       "  Price Range  Number of Reviews  \\\n",
       "0    $$ - $$$              194.0   \n",
       "\n",
       "                                             Reviews  \\\n",
       "0  [['Good food at your doorstep', 'A good hotel ...   \n",
       "\n",
       "                                              URL_TA     ID_TA  \\\n",
       "0  /Restaurant_Review-g187147-d1912643-Reviews-R_...  d1912643   \n",
       "\n",
       "   len Cuisine Style  review_variance review_last  review_day  review_month  \\\n",
       "0                  3               41  2017-12-31           6            12   \n",
       "\n",
       "   review_year  Rating_union  Price Range count  plus_word  minus_world  \n",
       "0         2017     74.632433                  2          1            0  "
      ]
     },
     "execution_count": 25,
     "metadata": {},
     "output_type": "execute_result"
    }
   ],
   "source": [
    "data.head(1)"
   ]
  },
  {
   "cell_type": "code",
   "execution_count": 26,
   "metadata": {},
   "outputs": [],
   "source": [
    "data = pd.get_dummies(data, columns=[ 'City',], dummy_na=True)\n",
    "\n",
    "# Добавляем также dummies признак для типов кухни\n",
    "df1 = data[['Cuisine Style']].copy()\n",
    "df1 = pd.get_dummies(df1['Cuisine Style'].explode(), prefix = 'cuis').sum(level=0)\n",
    "data = pd.concat([data,df1],axis=1)"
   ]
  },
  {
   "cell_type": "markdown",
   "metadata": {},
   "source": [
    "# Разбиваем датафрейм на части, необходимые для обучения и тестирования модели"
   ]
  },
  {
   "cell_type": "code",
   "execution_count": 27,
   "metadata": {},
   "outputs": [],
   "source": [
    "df = data.drop(['Restaurant_id','review_last',], axis = 1)\n",
    "object_columns = [s for s in df.columns if df[s].dtypes == 'object']\n",
    "df.drop(object_columns, axis = 1, inplace=True)\n",
    "\n",
    "# Х - данные с информацией о ресторанах, у - целевая переменная (рейтинги ресторанов)\n",
    "#X = df.drop(['Restaurant_id', 'Rating'], axis = 1)\n",
    "X = df.drop(['Rating'], axis = 1)\n",
    "y = df['Rating']\n",
    "#df.info()\n",
    "#object_columns\n",
    "#df.columns"
   ]
  },
  {
   "cell_type": "code",
   "execution_count": 28,
   "metadata": {},
   "outputs": [],
   "source": [
    "# Загружаем специальный инструмент для разбивки:\n",
    "from sklearn.model_selection import train_test_split"
   ]
  },
  {
   "cell_type": "code",
   "execution_count": null,
   "metadata": {},
   "outputs": [],
   "source": []
  },
  {
   "cell_type": "code",
   "execution_count": 29,
   "metadata": {},
   "outputs": [],
   "source": [
    "# Наборы данных с меткой \"train\" будут использоваться для обучения модели, \"test\" - для тестирования.\n",
    "# Для тестирования мы будем использовать 25% от исходного датасета.\n",
    "X_train, X_test, y_train, y_test = train_test_split(X, y, test_size=0.25)"
   ]
  },
  {
   "cell_type": "markdown",
   "metadata": {},
   "source": [
    "# Создаём, обучаем и тестируем модель"
   ]
  },
  {
   "cell_type": "code",
   "execution_count": 30,
   "metadata": {},
   "outputs": [],
   "source": [
    "# Импортируем необходимые библиотеки:\n",
    "from sklearn.ensemble import RandomForestRegressor # инструмент для создания и обучения модели\n",
    "from sklearn import metrics # инструменты для оценки точности модели"
   ]
  },
  {
   "cell_type": "code",
   "execution_count": 31,
   "metadata": {},
   "outputs": [],
   "source": [
    "# Создаём модель\n",
    "regr = RandomForestRegressor(n_estimators=100)\n",
    "\n",
    "# Обучаем модель на тестовом наборе данных\n",
    "regr.fit(X_train, y_train)\n",
    "\n",
    "# Используем обученную модель для предсказания рейтинга ресторанов в тестовой выборке.\n",
    "# Предсказанные значения записываем в переменную y_pred\n",
    "y_pred = regr.predict(X_test)"
   ]
  },
  {
   "cell_type": "code",
   "execution_count": 32,
   "metadata": {},
   "outputs": [
    {
     "name": "stdout",
     "output_type": "stream",
     "text": [
      "MAE: 0.21584699999999998\n"
     ]
    }
   ],
   "source": [
    "# Сравниваем предсказанные значения (y_pred) с реальными (y_test), и смотрим насколько они в среднем отличаются\n",
    "# Метрика называется Mean Absolute Error (MAE) и показывает среднее отклонение предсказанных значений от фактических.\n",
    "print('MAE:', metrics.mean_absolute_error(y_test, y_pred))"
   ]
  },
  {
   "cell_type": "markdown",
   "metadata": {},
   "source": [
    "MAE: 0.21665749999999998"
   ]
  }
 ],
 "metadata": {
  "kernelspec": {
   "display_name": "Python 3",
   "language": "python",
   "name": "python3"
  },
  "language_info": {
   "codemirror_mode": {
    "name": "ipython",
    "version": 3
   },
   "file_extension": ".py",
   "mimetype": "text/x-python",
   "name": "python",
   "nbconvert_exporter": "python",
   "pygments_lexer": "ipython3",
   "version": "3.8.8"
  }
 },
 "nbformat": 4,
 "nbformat_minor": 2
}
